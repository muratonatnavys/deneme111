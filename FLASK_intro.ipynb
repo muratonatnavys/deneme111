{
 "cells": [
  {
   "cell_type": "code",
   "execution_count": null,
   "id": "dee54806",
   "metadata": {
    "scrolled": true
   },
   "outputs": [
    {
     "name": "stdout",
     "output_type": "stream",
     "text": [
      " * Serving Flask app \"__main__\" (lazy loading)\n",
      " * Environment: production\n",
      "\u001b[31m   WARNING: This is a development server. Do not use it in a production deployment.\u001b[0m\n",
      "\u001b[2m   Use a production WSGI server instead.\u001b[0m\n",
      " * Debug mode: off\n"
     ]
    },
    {
     "name": "stderr",
     "output_type": "stream",
     "text": [
      " * Running on http://127.0.0.1:5001/ (Press CTRL+C to quit)\n",
      "127.0.0.1 - - [27/Apr/2022 15:46:27] \"GET / HTTP/1.1\" 405 -\n",
      "127.0.0.1 - - [27/Apr/2022 15:46:51] \"GET /ping_user?username=Murat HTTP/1.1\" 405 -\n",
      "127.0.0.1 - - [27/Apr/2022 15:46:56] \"GET /ping_user?username=Murat HTTP/1.1\" 405 -\n",
      "127.0.0.1 - - [27/Apr/2022 15:46:57] \"GET /ping_user?username=Murat HTTP/1.1\" 405 -\n",
      "127.0.0.1 - - [27/Apr/2022 15:46:58] \"GET /ping_user?username=Murat HTTP/1.1\" 405 -\n",
      "127.0.0.1 - - [27/Apr/2022 15:47:13] \"POST /ping_user?username=Murat HTTP/1.1\" 200 -\n"
     ]
    },
    {
     "name": "stdout",
     "output_type": "stream",
     "text": [
      "<Request 'http://127.0.0.1:5001/ping_user?username=Murat' [POST]>\n"
     ]
    },
    {
     "name": "stderr",
     "output_type": "stream",
     "text": [
      "127.0.0.1 - - [27/Apr/2022 15:47:36] \"POST /ping_user?username=Murat HTTP/1.1\" 200 -\n"
     ]
    },
    {
     "name": "stdout",
     "output_type": "stream",
     "text": [
      "<Request 'http://3bce-37-150-89-197.eu.ngrok.io/ping_user?username=Murat' [POST]>\n"
     ]
    },
    {
     "name": "stderr",
     "output_type": "stream",
     "text": [
      "127.0.0.1 - - [27/Apr/2022 15:51:14] \"POST /ping_user?username=Murat HTTP/1.1\" 200 -\n"
     ]
    },
    {
     "name": "stdout",
     "output_type": "stream",
     "text": [
      "<Request 'http://3bce-37-150-89-197.eu.ngrok.io/ping_user?username=Murat' [POST]>\n"
     ]
    },
    {
     "name": "stderr",
     "output_type": "stream",
     "text": [
      "127.0.0.1 - - [27/Apr/2022 16:40:03] \"POST /ping_user?username=Murat HTTP/1.1\" 200 -\n"
     ]
    },
    {
     "name": "stdout",
     "output_type": "stream",
     "text": [
      "<Request 'http://d5a4-37-150-89-197.eu.ngrok.io/ping_user?username=Murat' [POST]>\n"
     ]
    }
   ],
   "source": [
    "from flask import Flask, request\n",
    "\n",
    "app = Flask(__name__)\n",
    "\n",
    "@app.route(\"/\", methods=['POST'])\n",
    "def ping():\n",
    "    return \"Success\"\n",
    "\n",
    "@app.route(\"/ping_user\", methods=['POST'])\n",
    "def ping_user():\n",
    "    print(request)\n",
    "    ad = request.args.get('username')\n",
    "    return f\"Merhaba {ad} server a hos geldin\"\n",
    "\n",
    "if __name__ == '__main__':\n",
    "    app.run(port=5001)"
   ]
  },
  {
   "cell_type": "code",
   "execution_count": null,
   "id": "8d483830",
   "metadata": {},
   "outputs": [],
   "source": []
  },
  {
   "cell_type": "code",
   "execution_count": null,
   "id": "a578e113",
   "metadata": {},
   "outputs": [],
   "source": []
  }
 ],
 "metadata": {
  "kernelspec": {
   "display_name": "Python 3 (ipykernel)",
   "language": "python",
   "name": "python3"
  },
  "language_info": {
   "codemirror_mode": {
    "name": "ipython",
    "version": 3
   },
   "file_extension": ".py",
   "mimetype": "text/x-python",
   "name": "python",
   "nbconvert_exporter": "python",
   "pygments_lexer": "ipython3",
   "version": "3.9.7"
  }
 },
 "nbformat": 4,
 "nbformat_minor": 5
}
